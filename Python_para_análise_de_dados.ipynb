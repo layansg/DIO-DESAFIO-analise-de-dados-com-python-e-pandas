{
  "nbformat": 4,
  "nbformat_minor": 0,
  "metadata": {
    "colab": {
      "name": "Python para análise de dados.ipynb",
      "provenance": [],
      "collapsed_sections": [],
      "toc_visible": true,
      "mount_file_id": "1jpY-O864XVjFltbFsABfxXT4aDbjycXZ",
      "authorship_tag": "ABX9TyOgpcybXBGDwyPWrMoaKsBs",
      "include_colab_link": true
    },
    "kernelspec": {
      "name": "python3",
      "display_name": "Python 3"
    },
    "language_info": {
      "name": "python"
    }
  },
  "cells": [
    {
      "cell_type": "markdown",
      "metadata": {
        "id": "view-in-github",
        "colab_type": "text"
      },
      "source": [
        "<a href=\"https://colab.research.google.com/github/layansg/DIO-DESAFIO-analise-de-dados-com-python-e-pandas/blob/main/Python_para_an%C3%A1lise_de_dados.ipynb\" target=\"_parent\"><img src=\"https://colab.research.google.com/assets/colab-badge.svg\" alt=\"Open In Colab\"/></a>"
      ]
    },
    {
      "cell_type": "markdown",
      "metadata": {
        "id": "U737uj0ptMZn"
      },
      "source": [
        "# **Python para análise de dados (Pandas)** - Fernanda Santos"
      ]
    },
    {
      "cell_type": "code",
      "metadata": {
        "id": "9pZ3ypxPtgGs"
      },
      "source": [
        "# Importando a biblioteca pandas\n",
        "import pandas as pd"
      ],
      "execution_count": null,
      "outputs": []
    },
    {
      "cell_type": "code",
      "metadata": {
        "id": "z-gPj6sEucm2"
      },
      "source": [
        "df = pd.read_csv(error_bad_lines=False, sep=\";\")"
      ],
      "execution_count": null,
      "outputs": []
    },
    {
      "cell_type": "code",
      "metadata": {
        "id": "Ej_W3FI0vakI"
      },
      "source": [
        "# Visulalizando as 5 primeiras linhas\n",
        "df.head()"
      ],
      "execution_count": null,
      "outputs": []
    },
    {
      "cell_type": "code",
      "metadata": {
        "id": "4sDyQkldvh0K"
      },
      "source": [
        "df = df.rename(columns={\"country\":\"País\", \"continent\":\"Continente\", \"year\":\"Ano\", \"lifeExp\":\"Expectativa de vida\", \"pop\":\"Pop Total\", \"dgpPercap\": \"PIB percap\"})"
      ],
      "execution_count": null,
      "outputs": []
    },
    {
      "cell_type": "code",
      "metadata": {
        "id": "u8bnyYnYw1EM"
      },
      "source": [
        "df.head(10)"
      ],
      "execution_count": null,
      "outputs": []
    },
    {
      "cell_type": "code",
      "metadata": {
        "id": "UJylxQTHw-2c"
      },
      "source": [
        "# Total de linhas e colunas\n",
        "df.shape"
      ],
      "execution_count": null,
      "outputs": []
    },
    {
      "cell_type": "code",
      "metadata": {
        "id": "49c7-VtOxCeO"
      },
      "source": [
        "# Nome das colunas\n",
        "df.columns()"
      ],
      "execution_count": null,
      "outputs": []
    },
    {
      "cell_type": "code",
      "metadata": {
        "id": "l7zAVtEcxOyh"
      },
      "source": [
        "# Tipos de váriaveis no dataframe\n",
        "df.dtypes()"
      ],
      "execution_count": null,
      "outputs": []
    },
    {
      "cell_type": "code",
      "metadata": {
        "id": "mt9-pXbFxbSq"
      },
      "source": [
        "# Visualizando as 15 últimas linhas\n",
        "df.tail(15)"
      ],
      "execution_count": null,
      "outputs": []
    },
    {
      "cell_type": "code",
      "metadata": {
        "id": "XrdzlssCxnZf"
      },
      "source": [
        "# Informações estatísticas\n",
        "df.describe()"
      ],
      "execution_count": null,
      "outputs": []
    },
    {
      "cell_type": "code",
      "metadata": {
        "id": "YaTX8_y4yFZZ"
      },
      "source": [
        "# Apenas valores únicos de uma coluna\n",
        "df[\"Continente\"].unique()"
      ],
      "execution_count": null,
      "outputs": []
    },
    {
      "cell_type": "code",
      "metadata": {
        "id": "ulZdpPbRyh0a"
      },
      "source": [
        "# Filtrar elementos da tabala pelo continente\n",
        "Oceania = df.loc[df[\"Continente\"] == \"Oceania\"]\n",
        "Oceania.head()"
      ],
      "execution_count": null,
      "outputs": []
    },
    {
      "cell_type": "code",
      "metadata": {
        "id": "tsagwyJjzNrq"
      },
      "source": [
        "# Contagem de elementos agrupados por coluna\n",
        "df.groupby(\"continente\")[\"País\"].nunique()"
      ],
      "execution_count": null,
      "outputs": []
    },
    {
      "cell_type": "code",
      "metadata": {
        "id": "Lhy2IlNjzvyr"
      },
      "source": [
        "# Expectativa de vida média para cada Ano\n",
        "df.groupby(\"Ano\")[\"Expectativa de vida\"].mean()"
      ],
      "execution_count": null,
      "outputs": []
    },
    {
      "cell_type": "code",
      "metadata": {
        "id": "0IasvN7N0lmZ"
      },
      "source": [
        "# Média do PIB per capita\n",
        "df[\"PIB percap\"].mean()"
      ],
      "execution_count": null,
      "outputs": []
    },
    {
      "cell_type": "code",
      "metadata": {
        "id": "ueVnEvOE0wyh"
      },
      "source": [
        "# Soma do PIB per capita\n",
        "df[\"PIB percap\"].sum()"
      ],
      "execution_count": null,
      "outputs": []
    }
  ]
}