{
  "nbformat": 4,
  "nbformat_minor": 0,
  "metadata": {
    "colab": {
      "name": "Python para análise de dados.ipynb",
      "provenance": [],
      "collapsed_sections": [],
      "mount_file_id": "1jpY-O864XVjFltbFsABfxXT4aDbjycXZ",
      "authorship_tag": "ABX9TyPWHBjLjzWkODN0Jr0+Ahlc",
      "include_colab_link": true
    },
    "kernelspec": {
      "name": "python3",
      "display_name": "Python 3"
    },
    "language_info": {
      "name": "python"
    }
  },
  "cells": [
    {
      "cell_type": "markdown",
      "metadata": {
        "id": "view-in-github",
        "colab_type": "text"
      },
      "source": [
        "<a href=\"https://colab.research.google.com/github/layansg/DIO-DESAFIO-analise-de-dados-com-python-e-pandas/blob/main/Python_para_an%C3%A1lise_de_dados.ipynb\" target=\"_parent\"><img src=\"https://colab.research.google.com/assets/colab-badge.svg\" alt=\"Open In Colab\"/></a>"
      ]
    },
    {
      "cell_type": "markdown",
      "metadata": {
        "id": "U737uj0ptMZn"
      },
      "source": [
        "# **Python para análise de dados (Pandas)** - Fernanda Santos"
      ]
    },
    {
      "cell_type": "code",
      "metadata": {
        "id": "9pZ3ypxPtgGs"
      },
      "source": [
        "# Importando a biblioteca pandas\n",
        "import pandas as pd"
      ],
      "execution_count": 1,
      "outputs": []
    },
    {
      "cell_type": "code",
      "metadata": {
        "id": "z-gPj6sEucm2"
      },
      "source": [
        "df = pd.read_csv(\"Gapminder.csv\", error_bad_lines=False, sep=\";\")"
      ],
      "execution_count": 3,
      "outputs": []
    },
    {
      "cell_type": "code",
      "metadata": {
        "id": "Ej_W3FI0vakI",
        "outputId": "f413a5b3-fdb1-490e-a2e6-8261fd792438",
        "colab": {
          "base_uri": "https://localhost:8080/",
          "height": 204
        }
      },
      "source": [
        "# Visulalizando as 5 primeiras linhas\n",
        "df.head()"
      ],
      "execution_count": 4,
      "outputs": [
        {
          "output_type": "execute_result",
          "data": {
            "text/html": [
              "<div>\n",
              "<style scoped>\n",
              "    .dataframe tbody tr th:only-of-type {\n",
              "        vertical-align: middle;\n",
              "    }\n",
              "\n",
              "    .dataframe tbody tr th {\n",
              "        vertical-align: top;\n",
              "    }\n",
              "\n",
              "    .dataframe thead th {\n",
              "        text-align: right;\n",
              "    }\n",
              "</style>\n",
              "<table border=\"1\" class=\"dataframe\">\n",
              "  <thead>\n",
              "    <tr style=\"text-align: right;\">\n",
              "      <th></th>\n",
              "      <th>country</th>\n",
              "      <th>continent</th>\n",
              "      <th>year</th>\n",
              "      <th>lifeExp</th>\n",
              "      <th>pop</th>\n",
              "      <th>gdpPercap</th>\n",
              "    </tr>\n",
              "  </thead>\n",
              "  <tbody>\n",
              "    <tr>\n",
              "      <th>0</th>\n",
              "      <td>Afghanistan</td>\n",
              "      <td>Asia</td>\n",
              "      <td>1952</td>\n",
              "      <td>28.801</td>\n",
              "      <td>8425333</td>\n",
              "      <td>779.445314</td>\n",
              "    </tr>\n",
              "    <tr>\n",
              "      <th>1</th>\n",
              "      <td>Afghanistan</td>\n",
              "      <td>Asia</td>\n",
              "      <td>1957</td>\n",
              "      <td>30.332</td>\n",
              "      <td>9240934</td>\n",
              "      <td>820.853030</td>\n",
              "    </tr>\n",
              "    <tr>\n",
              "      <th>2</th>\n",
              "      <td>Afghanistan</td>\n",
              "      <td>Asia</td>\n",
              "      <td>1962</td>\n",
              "      <td>31.997</td>\n",
              "      <td>10267083</td>\n",
              "      <td>853.100710</td>\n",
              "    </tr>\n",
              "    <tr>\n",
              "      <th>3</th>\n",
              "      <td>Afghanistan</td>\n",
              "      <td>Asia</td>\n",
              "      <td>1967</td>\n",
              "      <td>34.020</td>\n",
              "      <td>11537966</td>\n",
              "      <td>836.197138</td>\n",
              "    </tr>\n",
              "    <tr>\n",
              "      <th>4</th>\n",
              "      <td>Afghanistan</td>\n",
              "      <td>Asia</td>\n",
              "      <td>1972</td>\n",
              "      <td>36.088</td>\n",
              "      <td>13079460</td>\n",
              "      <td>739.981106</td>\n",
              "    </tr>\n",
              "  </tbody>\n",
              "</table>\n",
              "</div>"
            ],
            "text/plain": [
              "       country continent  year  lifeExp       pop   gdpPercap\n",
              "0  Afghanistan      Asia  1952   28.801   8425333  779.445314\n",
              "1  Afghanistan      Asia  1957   30.332   9240934  820.853030\n",
              "2  Afghanistan      Asia  1962   31.997  10267083  853.100710\n",
              "3  Afghanistan      Asia  1967   34.020  11537966  836.197138\n",
              "4  Afghanistan      Asia  1972   36.088  13079460  739.981106"
            ]
          },
          "metadata": {},
          "execution_count": 4
        }
      ]
    },
    {
      "cell_type": "code",
      "metadata": {
        "id": "4sDyQkldvh0K"
      },
      "source": [
        "df = df.rename(columns={\"country\":\"País\", \"continent\":\"Continente\", \"year\":\"Ano\", \"lifeExp\":\"Expectativa de vida\", \"pop\":\"Pop Total\", \"gdpPercap\": \"PIB Percap\"})"
      ],
      "execution_count": 20,
      "outputs": []
    },
    {
      "cell_type": "code",
      "metadata": {
        "id": "u8bnyYnYw1EM",
        "outputId": "a95999c6-7b12-44f0-c840-2551ec9c341b",
        "colab": {
          "base_uri": "https://localhost:8080/",
          "height": 359
        }
      },
      "source": [
        "df.head(10)"
      ],
      "execution_count": 21,
      "outputs": [
        {
          "output_type": "execute_result",
          "data": {
            "text/html": [
              "<div>\n",
              "<style scoped>\n",
              "    .dataframe tbody tr th:only-of-type {\n",
              "        vertical-align: middle;\n",
              "    }\n",
              "\n",
              "    .dataframe tbody tr th {\n",
              "        vertical-align: top;\n",
              "    }\n",
              "\n",
              "    .dataframe thead th {\n",
              "        text-align: right;\n",
              "    }\n",
              "</style>\n",
              "<table border=\"1\" class=\"dataframe\">\n",
              "  <thead>\n",
              "    <tr style=\"text-align: right;\">\n",
              "      <th></th>\n",
              "      <th>País</th>\n",
              "      <th>Continente</th>\n",
              "      <th>Ano</th>\n",
              "      <th>Expectativa de vida</th>\n",
              "      <th>Pop Total</th>\n",
              "      <th>PIB Percap</th>\n",
              "    </tr>\n",
              "  </thead>\n",
              "  <tbody>\n",
              "    <tr>\n",
              "      <th>0</th>\n",
              "      <td>Afghanistan</td>\n",
              "      <td>Asia</td>\n",
              "      <td>1952</td>\n",
              "      <td>28.801</td>\n",
              "      <td>8425333</td>\n",
              "      <td>779.445314</td>\n",
              "    </tr>\n",
              "    <tr>\n",
              "      <th>1</th>\n",
              "      <td>Afghanistan</td>\n",
              "      <td>Asia</td>\n",
              "      <td>1957</td>\n",
              "      <td>30.332</td>\n",
              "      <td>9240934</td>\n",
              "      <td>820.853030</td>\n",
              "    </tr>\n",
              "    <tr>\n",
              "      <th>2</th>\n",
              "      <td>Afghanistan</td>\n",
              "      <td>Asia</td>\n",
              "      <td>1962</td>\n",
              "      <td>31.997</td>\n",
              "      <td>10267083</td>\n",
              "      <td>853.100710</td>\n",
              "    </tr>\n",
              "    <tr>\n",
              "      <th>3</th>\n",
              "      <td>Afghanistan</td>\n",
              "      <td>Asia</td>\n",
              "      <td>1967</td>\n",
              "      <td>34.020</td>\n",
              "      <td>11537966</td>\n",
              "      <td>836.197138</td>\n",
              "    </tr>\n",
              "    <tr>\n",
              "      <th>4</th>\n",
              "      <td>Afghanistan</td>\n",
              "      <td>Asia</td>\n",
              "      <td>1972</td>\n",
              "      <td>36.088</td>\n",
              "      <td>13079460</td>\n",
              "      <td>739.981106</td>\n",
              "    </tr>\n",
              "    <tr>\n",
              "      <th>5</th>\n",
              "      <td>Afghanistan</td>\n",
              "      <td>Asia</td>\n",
              "      <td>1977</td>\n",
              "      <td>38.438</td>\n",
              "      <td>14880372</td>\n",
              "      <td>786.113360</td>\n",
              "    </tr>\n",
              "    <tr>\n",
              "      <th>6</th>\n",
              "      <td>Afghanistan</td>\n",
              "      <td>Asia</td>\n",
              "      <td>1982</td>\n",
              "      <td>39.854</td>\n",
              "      <td>12881816</td>\n",
              "      <td>978.011439</td>\n",
              "    </tr>\n",
              "    <tr>\n",
              "      <th>7</th>\n",
              "      <td>Afghanistan</td>\n",
              "      <td>Asia</td>\n",
              "      <td>1987</td>\n",
              "      <td>40.822</td>\n",
              "      <td>13867957</td>\n",
              "      <td>852.395945</td>\n",
              "    </tr>\n",
              "    <tr>\n",
              "      <th>8</th>\n",
              "      <td>Afghanistan</td>\n",
              "      <td>Asia</td>\n",
              "      <td>1992</td>\n",
              "      <td>41.674</td>\n",
              "      <td>16317921</td>\n",
              "      <td>649.341395</td>\n",
              "    </tr>\n",
              "    <tr>\n",
              "      <th>9</th>\n",
              "      <td>Afghanistan</td>\n",
              "      <td>Asia</td>\n",
              "      <td>1997</td>\n",
              "      <td>41.763</td>\n",
              "      <td>22227415</td>\n",
              "      <td>635.341351</td>\n",
              "    </tr>\n",
              "  </tbody>\n",
              "</table>\n",
              "</div>"
            ],
            "text/plain": [
              "          País Continente   Ano  Expectativa de vida  Pop Total  PIB Percap\n",
              "0  Afghanistan       Asia  1952               28.801    8425333  779.445314\n",
              "1  Afghanistan       Asia  1957               30.332    9240934  820.853030\n",
              "2  Afghanistan       Asia  1962               31.997   10267083  853.100710\n",
              "3  Afghanistan       Asia  1967               34.020   11537966  836.197138\n",
              "4  Afghanistan       Asia  1972               36.088   13079460  739.981106\n",
              "5  Afghanistan       Asia  1977               38.438   14880372  786.113360\n",
              "6  Afghanistan       Asia  1982               39.854   12881816  978.011439\n",
              "7  Afghanistan       Asia  1987               40.822   13867957  852.395945\n",
              "8  Afghanistan       Asia  1992               41.674   16317921  649.341395\n",
              "9  Afghanistan       Asia  1997               41.763   22227415  635.341351"
            ]
          },
          "metadata": {},
          "execution_count": 21
        }
      ]
    },
    {
      "cell_type": "code",
      "metadata": {
        "id": "UJylxQTHw-2c",
        "outputId": "271d2c30-ba71-4d03-8abd-a3a4c3c282f3",
        "colab": {
          "base_uri": "https://localhost:8080/"
        }
      },
      "source": [
        "# Total de linhas e colunas\n",
        "df.shape"
      ],
      "execution_count": 22,
      "outputs": [
        {
          "output_type": "execute_result",
          "data": {
            "text/plain": [
              "(3312, 6)"
            ]
          },
          "metadata": {},
          "execution_count": 22
        }
      ]
    },
    {
      "cell_type": "code",
      "metadata": {
        "id": "49c7-VtOxCeO",
        "outputId": "1f6e7aa2-e053-4e8b-db95-896cf30ab65d",
        "colab": {
          "base_uri": "https://localhost:8080/"
        }
      },
      "source": [
        "# Nome das colunas\n",
        "df.columns"
      ],
      "execution_count": 23,
      "outputs": [
        {
          "output_type": "execute_result",
          "data": {
            "text/plain": [
              "Index(['País', 'Continente', 'Ano', 'Expectativa de vida', 'Pop Total',\n",
              "       'PIB Percap'],\n",
              "      dtype='object')"
            ]
          },
          "metadata": {},
          "execution_count": 23
        }
      ]
    },
    {
      "cell_type": "code",
      "metadata": {
        "id": "l7zAVtEcxOyh",
        "outputId": "65f4444e-0362-4e1f-a61f-83abe46262d2",
        "colab": {
          "base_uri": "https://localhost:8080/"
        }
      },
      "source": [
        "# Tipos de váriaveis no dataframe\n",
        "df.dtypes"
      ],
      "execution_count": 24,
      "outputs": [
        {
          "output_type": "execute_result",
          "data": {
            "text/plain": [
              "País                    object\n",
              "Continente              object\n",
              "Ano                      int64\n",
              "Expectativa de vida    float64\n",
              "Pop Total                int64\n",
              "PIB Percap             float64\n",
              "dtype: object"
            ]
          },
          "metadata": {},
          "execution_count": 24
        }
      ]
    },
    {
      "cell_type": "code",
      "metadata": {
        "id": "mt9-pXbFxbSq",
        "outputId": "fcc512c1-7540-480b-f400-5778fa5a0ef6",
        "colab": {
          "base_uri": "https://localhost:8080/",
          "height": 514
        }
      },
      "source": [
        "# Visualizando as 15 últimas linhas\n",
        "df.tail(15)"
      ],
      "execution_count": 25,
      "outputs": [
        {
          "output_type": "execute_result",
          "data": {
            "text/html": [
              "<div>\n",
              "<style scoped>\n",
              "    .dataframe tbody tr th:only-of-type {\n",
              "        vertical-align: middle;\n",
              "    }\n",
              "\n",
              "    .dataframe tbody tr th {\n",
              "        vertical-align: top;\n",
              "    }\n",
              "\n",
              "    .dataframe thead th {\n",
              "        text-align: right;\n",
              "    }\n",
              "</style>\n",
              "<table border=\"1\" class=\"dataframe\">\n",
              "  <thead>\n",
              "    <tr style=\"text-align: right;\">\n",
              "      <th></th>\n",
              "      <th>País</th>\n",
              "      <th>Continente</th>\n",
              "      <th>Ano</th>\n",
              "      <th>Expectativa de vida</th>\n",
              "      <th>Pop Total</th>\n",
              "      <th>PIB Percap</th>\n",
              "    </tr>\n",
              "  </thead>\n",
              "  <tbody>\n",
              "    <tr>\n",
              "      <th>3297</th>\n",
              "      <td>Zambia</td>\n",
              "      <td>Africa</td>\n",
              "      <td>1997</td>\n",
              "      <td>40.238</td>\n",
              "      <td>9417789</td>\n",
              "      <td>1071.353818</td>\n",
              "    </tr>\n",
              "    <tr>\n",
              "      <th>3298</th>\n",
              "      <td>Zambia</td>\n",
              "      <td>Africa</td>\n",
              "      <td>2002</td>\n",
              "      <td>39.193</td>\n",
              "      <td>10595811</td>\n",
              "      <td>1071.613938</td>\n",
              "    </tr>\n",
              "    <tr>\n",
              "      <th>3299</th>\n",
              "      <td>Zambia</td>\n",
              "      <td>Africa</td>\n",
              "      <td>2007</td>\n",
              "      <td>42.384</td>\n",
              "      <td>11746035</td>\n",
              "      <td>1271.211593</td>\n",
              "    </tr>\n",
              "    <tr>\n",
              "      <th>3300</th>\n",
              "      <td>Zimbabwe</td>\n",
              "      <td>Africa</td>\n",
              "      <td>1952</td>\n",
              "      <td>48.451</td>\n",
              "      <td>3080907</td>\n",
              "      <td>406.884115</td>\n",
              "    </tr>\n",
              "    <tr>\n",
              "      <th>3301</th>\n",
              "      <td>Zimbabwe</td>\n",
              "      <td>Africa</td>\n",
              "      <td>1957</td>\n",
              "      <td>50.469</td>\n",
              "      <td>3646340</td>\n",
              "      <td>518.764268</td>\n",
              "    </tr>\n",
              "    <tr>\n",
              "      <th>3302</th>\n",
              "      <td>Zimbabwe</td>\n",
              "      <td>Africa</td>\n",
              "      <td>1962</td>\n",
              "      <td>52.358</td>\n",
              "      <td>4277736</td>\n",
              "      <td>527.272182</td>\n",
              "    </tr>\n",
              "    <tr>\n",
              "      <th>3303</th>\n",
              "      <td>Zimbabwe</td>\n",
              "      <td>Africa</td>\n",
              "      <td>1967</td>\n",
              "      <td>53.995</td>\n",
              "      <td>4995432</td>\n",
              "      <td>569.795071</td>\n",
              "    </tr>\n",
              "    <tr>\n",
              "      <th>3304</th>\n",
              "      <td>Zimbabwe</td>\n",
              "      <td>Africa</td>\n",
              "      <td>1972</td>\n",
              "      <td>55.635</td>\n",
              "      <td>5861135</td>\n",
              "      <td>799.362176</td>\n",
              "    </tr>\n",
              "    <tr>\n",
              "      <th>3305</th>\n",
              "      <td>Zimbabwe</td>\n",
              "      <td>Africa</td>\n",
              "      <td>1977</td>\n",
              "      <td>57.674</td>\n",
              "      <td>6642107</td>\n",
              "      <td>685.587682</td>\n",
              "    </tr>\n",
              "    <tr>\n",
              "      <th>3306</th>\n",
              "      <td>Zimbabwe</td>\n",
              "      <td>Africa</td>\n",
              "      <td>1982</td>\n",
              "      <td>60.363</td>\n",
              "      <td>7636524</td>\n",
              "      <td>788.855041</td>\n",
              "    </tr>\n",
              "    <tr>\n",
              "      <th>3307</th>\n",
              "      <td>Zimbabwe</td>\n",
              "      <td>Africa</td>\n",
              "      <td>1987</td>\n",
              "      <td>62.351</td>\n",
              "      <td>9216418</td>\n",
              "      <td>706.157306</td>\n",
              "    </tr>\n",
              "    <tr>\n",
              "      <th>3308</th>\n",
              "      <td>Zimbabwe</td>\n",
              "      <td>Africa</td>\n",
              "      <td>1992</td>\n",
              "      <td>60.377</td>\n",
              "      <td>10704340</td>\n",
              "      <td>693.420786</td>\n",
              "    </tr>\n",
              "    <tr>\n",
              "      <th>3309</th>\n",
              "      <td>Zimbabwe</td>\n",
              "      <td>Africa</td>\n",
              "      <td>1997</td>\n",
              "      <td>46.809</td>\n",
              "      <td>11404948</td>\n",
              "      <td>792.449960</td>\n",
              "    </tr>\n",
              "    <tr>\n",
              "      <th>3310</th>\n",
              "      <td>Zimbabwe</td>\n",
              "      <td>Africa</td>\n",
              "      <td>2002</td>\n",
              "      <td>39.989</td>\n",
              "      <td>11926563</td>\n",
              "      <td>672.038623</td>\n",
              "    </tr>\n",
              "    <tr>\n",
              "      <th>3311</th>\n",
              "      <td>Zimbabwe</td>\n",
              "      <td>Africa</td>\n",
              "      <td>2007</td>\n",
              "      <td>43.487</td>\n",
              "      <td>12311143</td>\n",
              "      <td>469.709298</td>\n",
              "    </tr>\n",
              "  </tbody>\n",
              "</table>\n",
              "</div>"
            ],
            "text/plain": [
              "          País Continente   Ano  Expectativa de vida  Pop Total   PIB Percap\n",
              "3297    Zambia     Africa  1997               40.238    9417789  1071.353818\n",
              "3298    Zambia     Africa  2002               39.193   10595811  1071.613938\n",
              "3299    Zambia     Africa  2007               42.384   11746035  1271.211593\n",
              "3300  Zimbabwe     Africa  1952               48.451    3080907   406.884115\n",
              "3301  Zimbabwe     Africa  1957               50.469    3646340   518.764268\n",
              "3302  Zimbabwe     Africa  1962               52.358    4277736   527.272182\n",
              "3303  Zimbabwe     Africa  1967               53.995    4995432   569.795071\n",
              "3304  Zimbabwe     Africa  1972               55.635    5861135   799.362176\n",
              "3305  Zimbabwe     Africa  1977               57.674    6642107   685.587682\n",
              "3306  Zimbabwe     Africa  1982               60.363    7636524   788.855041\n",
              "3307  Zimbabwe     Africa  1987               62.351    9216418   706.157306\n",
              "3308  Zimbabwe     Africa  1992               60.377   10704340   693.420786\n",
              "3309  Zimbabwe     Africa  1997               46.809   11404948   792.449960\n",
              "3310  Zimbabwe     Africa  2002               39.989   11926563   672.038623\n",
              "3311  Zimbabwe     Africa  2007               43.487   12311143   469.709298"
            ]
          },
          "metadata": {},
          "execution_count": 25
        }
      ]
    },
    {
      "cell_type": "code",
      "metadata": {
        "id": "XrdzlssCxnZf",
        "outputId": "733fff49-7c2d-4042-f1e7-189434df80ea",
        "colab": {
          "base_uri": "https://localhost:8080/",
          "height": 297
        }
      },
      "source": [
        "# Informações estatísticas\n",
        "df.describe()"
      ],
      "execution_count": 26,
      "outputs": [
        {
          "output_type": "execute_result",
          "data": {
            "text/html": [
              "<div>\n",
              "<style scoped>\n",
              "    .dataframe tbody tr th:only-of-type {\n",
              "        vertical-align: middle;\n",
              "    }\n",
              "\n",
              "    .dataframe tbody tr th {\n",
              "        vertical-align: top;\n",
              "    }\n",
              "\n",
              "    .dataframe thead th {\n",
              "        text-align: right;\n",
              "    }\n",
              "</style>\n",
              "<table border=\"1\" class=\"dataframe\">\n",
              "  <thead>\n",
              "    <tr style=\"text-align: right;\">\n",
              "      <th></th>\n",
              "      <th>Ano</th>\n",
              "      <th>Expectativa de vida</th>\n",
              "      <th>Pop Total</th>\n",
              "      <th>PIB Percap</th>\n",
              "    </tr>\n",
              "  </thead>\n",
              "  <tbody>\n",
              "    <tr>\n",
              "      <th>count</th>\n",
              "      <td>3312.000000</td>\n",
              "      <td>3312.000000</td>\n",
              "      <td>3.312000e+03</td>\n",
              "      <td>3312.000000</td>\n",
              "    </tr>\n",
              "    <tr>\n",
              "      <th>mean</th>\n",
              "      <td>1980.301630</td>\n",
              "      <td>65.246871</td>\n",
              "      <td>3.161489e+07</td>\n",
              "      <td>11317.115805</td>\n",
              "    </tr>\n",
              "    <tr>\n",
              "      <th>std</th>\n",
              "      <td>16.927294</td>\n",
              "      <td>11.768412</td>\n",
              "      <td>1.041193e+08</td>\n",
              "      <td>11369.142739</td>\n",
              "    </tr>\n",
              "    <tr>\n",
              "      <th>min</th>\n",
              "      <td>1950.000000</td>\n",
              "      <td>23.599000</td>\n",
              "      <td>5.941200e+04</td>\n",
              "      <td>241.165877</td>\n",
              "    </tr>\n",
              "    <tr>\n",
              "      <th>25%</th>\n",
              "      <td>1967.000000</td>\n",
              "      <td>58.337500</td>\n",
              "      <td>2.678572e+06</td>\n",
              "      <td>2514.625266</td>\n",
              "    </tr>\n",
              "    <tr>\n",
              "      <th>50%</th>\n",
              "      <td>1982.000000</td>\n",
              "      <td>69.610000</td>\n",
              "      <td>7.557218e+06</td>\n",
              "      <td>7838.505123</td>\n",
              "    </tr>\n",
              "    <tr>\n",
              "      <th>75%</th>\n",
              "      <td>1996.000000</td>\n",
              "      <td>73.657750</td>\n",
              "      <td>1.958522e+07</td>\n",
              "      <td>17357.879170</td>\n",
              "    </tr>\n",
              "    <tr>\n",
              "      <th>max</th>\n",
              "      <td>2007.000000</td>\n",
              "      <td>82.670000</td>\n",
              "      <td>1.318683e+09</td>\n",
              "      <td>113523.132900</td>\n",
              "    </tr>\n",
              "  </tbody>\n",
              "</table>\n",
              "</div>"
            ],
            "text/plain": [
              "               Ano  Expectativa de vida     Pop Total     PIB Percap\n",
              "count  3312.000000          3312.000000  3.312000e+03    3312.000000\n",
              "mean   1980.301630            65.246871  3.161489e+07   11317.115805\n",
              "std      16.927294            11.768412  1.041193e+08   11369.142739\n",
              "min    1950.000000            23.599000  5.941200e+04     241.165877\n",
              "25%    1967.000000            58.337500  2.678572e+06    2514.625266\n",
              "50%    1982.000000            69.610000  7.557218e+06    7838.505123\n",
              "75%    1996.000000            73.657750  1.958522e+07   17357.879170\n",
              "max    2007.000000            82.670000  1.318683e+09  113523.132900"
            ]
          },
          "metadata": {},
          "execution_count": 26
        }
      ]
    },
    {
      "cell_type": "code",
      "metadata": {
        "id": "YaTX8_y4yFZZ",
        "outputId": "8441691c-ab5a-4427-d9f9-8695891680ad",
        "colab": {
          "base_uri": "https://localhost:8080/"
        }
      },
      "source": [
        "# Apenas valores únicos de uma coluna\n",
        "df[\"Continente\"].unique()"
      ],
      "execution_count": 27,
      "outputs": [
        {
          "output_type": "execute_result",
          "data": {
            "text/plain": [
              "array(['Asia', 'Europe', 'Africa', 'Americas', nan, 'FSU', 'Oceania'],\n",
              "      dtype=object)"
            ]
          },
          "metadata": {},
          "execution_count": 27
        }
      ]
    },
    {
      "cell_type": "code",
      "metadata": {
        "id": "ulZdpPbRyh0a",
        "outputId": "e8a97f01-b4fd-4912-9054-68f877288ce3",
        "colab": {
          "base_uri": "https://localhost:8080/",
          "height": 204
        }
      },
      "source": [
        "# Filtrar elementos da tabala pelo continente\n",
        "Oceania = df.loc[df[\"Continente\"] == \"Oceania\"]\n",
        "Oceania.head()"
      ],
      "execution_count": 28,
      "outputs": [
        {
          "output_type": "execute_result",
          "data": {
            "text/html": [
              "<div>\n",
              "<style scoped>\n",
              "    .dataframe tbody tr th:only-of-type {\n",
              "        vertical-align: middle;\n",
              "    }\n",
              "\n",
              "    .dataframe tbody tr th {\n",
              "        vertical-align: top;\n",
              "    }\n",
              "\n",
              "    .dataframe thead th {\n",
              "        text-align: right;\n",
              "    }\n",
              "</style>\n",
              "<table border=\"1\" class=\"dataframe\">\n",
              "  <thead>\n",
              "    <tr style=\"text-align: right;\">\n",
              "      <th></th>\n",
              "      <th>País</th>\n",
              "      <th>Continente</th>\n",
              "      <th>Ano</th>\n",
              "      <th>Expectativa de vida</th>\n",
              "      <th>Pop Total</th>\n",
              "      <th>PIB Percap</th>\n",
              "    </tr>\n",
              "  </thead>\n",
              "  <tbody>\n",
              "    <tr>\n",
              "      <th>975</th>\n",
              "      <td>Fiji</td>\n",
              "      <td>Oceania</td>\n",
              "      <td>1962</td>\n",
              "      <td>56.494</td>\n",
              "      <td>421869</td>\n",
              "      <td>2039.393277</td>\n",
              "    </tr>\n",
              "    <tr>\n",
              "      <th>976</th>\n",
              "      <td>Fiji</td>\n",
              "      <td>Oceania</td>\n",
              "      <td>1967</td>\n",
              "      <td>58.607</td>\n",
              "      <td>485000</td>\n",
              "      <td>2170.073285</td>\n",
              "    </tr>\n",
              "    <tr>\n",
              "      <th>977</th>\n",
              "      <td>Fiji</td>\n",
              "      <td>Oceania</td>\n",
              "      <td>1972</td>\n",
              "      <td>60.642</td>\n",
              "      <td>544000</td>\n",
              "      <td>2797.759484</td>\n",
              "    </tr>\n",
              "    <tr>\n",
              "      <th>978</th>\n",
              "      <td>Fiji</td>\n",
              "      <td>Oceania</td>\n",
              "      <td>1977</td>\n",
              "      <td>62.669</td>\n",
              "      <td>599339</td>\n",
              "      <td>3182.569600</td>\n",
              "    </tr>\n",
              "    <tr>\n",
              "      <th>979</th>\n",
              "      <td>Fiji</td>\n",
              "      <td>Oceania</td>\n",
              "      <td>1982</td>\n",
              "      <td>64.683</td>\n",
              "      <td>658906</td>\n",
              "      <td>3209.257468</td>\n",
              "    </tr>\n",
              "  </tbody>\n",
              "</table>\n",
              "</div>"
            ],
            "text/plain": [
              "     País Continente   Ano  Expectativa de vida  Pop Total   PIB Percap\n",
              "975  Fiji    Oceania  1962               56.494     421869  2039.393277\n",
              "976  Fiji    Oceania  1967               58.607     485000  2170.073285\n",
              "977  Fiji    Oceania  1972               60.642     544000  2797.759484\n",
              "978  Fiji    Oceania  1977               62.669     599339  3182.569600\n",
              "979  Fiji    Oceania  1982               64.683     658906  3209.257468"
            ]
          },
          "metadata": {},
          "execution_count": 28
        }
      ]
    },
    {
      "cell_type": "code",
      "metadata": {
        "id": "tsagwyJjzNrq",
        "outputId": "900a7422-8dcc-4534-94f7-703ef359271b",
        "colab": {
          "base_uri": "https://localhost:8080/"
        }
      },
      "source": [
        "# Contagem de elementos agrupados por coluna\n",
        "df.groupby(\"Continente\")[\"País\"].nunique()"
      ],
      "execution_count": 29,
      "outputs": [
        {
          "output_type": "execute_result",
          "data": {
            "text/plain": [
              "Continente\n",
              "Africa      51\n",
              "Americas    25\n",
              "Asia        41\n",
              "Europe      35\n",
              "FSU          6\n",
              "Oceania      3\n",
              "Name: País, dtype: int64"
            ]
          },
          "metadata": {},
          "execution_count": 29
        }
      ]
    },
    {
      "cell_type": "code",
      "metadata": {
        "id": "Lhy2IlNjzvyr",
        "outputId": "a976fde2-30e6-40e0-9e05-dc0404ef55cc",
        "colab": {
          "base_uri": "https://localhost:8080/"
        }
      },
      "source": [
        "# Expectativa de vida média para cada Ano\n",
        "df.groupby(\"Ano\")[\"Expectativa de vida\"].mean()"
      ],
      "execution_count": 30,
      "outputs": [
        {
          "output_type": "execute_result",
          "data": {
            "text/plain": [
              "Ano\n",
              "1950    62.002568\n",
              "1951    65.904167\n",
              "1952    49.206867\n",
              "1953    66.674563\n",
              "1954    67.459817\n",
              "1955    67.806757\n",
              "1956    67.950637\n",
              "1957    51.614590\n",
              "1958    68.815936\n",
              "1959    68.226579\n",
              "1960    68.470837\n",
              "1961    68.862480\n",
              "1962    54.035234\n",
              "1963    69.595735\n",
              "1964    70.063105\n",
              "1965    70.259881\n",
              "1966    70.447526\n",
              "1967    56.263629\n",
              "1968    70.689081\n",
              "1969    70.653896\n",
              "1970    70.961141\n",
              "1971    71.103976\n",
              "1972    58.474481\n",
              "1973    71.500338\n",
              "1974    71.778504\n",
              "1975    71.939218\n",
              "1976    72.158050\n",
              "1977    60.429090\n",
              "1978    72.717567\n",
              "1979    73.018717\n",
              "1980    73.064524\n",
              "1981    73.337399\n",
              "1982    62.365871\n",
              "1983    73.787778\n",
              "1984    74.100741\n",
              "1985    74.112222\n",
              "1986    74.452222\n",
              "1987    63.984860\n",
              "1988    74.760000\n",
              "1989    74.924444\n",
              "1990    74.283437\n",
              "1991    74.374848\n",
              "1992    65.008443\n",
              "1993    74.324545\n",
              "1994    74.456667\n",
              "1995    74.552727\n",
              "1996    75.029394\n",
              "1997    65.873799\n",
              "1998    75.569697\n",
              "1999    75.703636\n",
              "2000    76.026364\n",
              "2001    76.257879\n",
              "2002    66.835695\n",
              "2003    76.586667\n",
              "2004    76.921563\n",
              "2005    76.718667\n",
              "2006    77.887778\n",
              "2007    67.868557\n",
              "Name: Expectativa de vida, dtype: float64"
            ]
          },
          "metadata": {},
          "execution_count": 30
        }
      ]
    },
    {
      "cell_type": "code",
      "metadata": {
        "id": "0IasvN7N0lmZ",
        "outputId": "e42ce7b8-e603-4422-9503-448ae513e0e4",
        "colab": {
          "base_uri": "https://localhost:8080/"
        }
      },
      "source": [
        "# Média do PIB per capita\n",
        "df[\"PIB Percap\"].mean()"
      ],
      "execution_count": 31,
      "outputs": [
        {
          "output_type": "execute_result",
          "data": {
            "text/plain": [
              "11317.115804696637"
            ]
          },
          "metadata": {},
          "execution_count": 31
        }
      ]
    },
    {
      "cell_type": "code",
      "metadata": {
        "id": "ueVnEvOE0wyh",
        "outputId": "65d85c3f-7af5-44be-fcda-57c1fce39e9c",
        "colab": {
          "base_uri": "https://localhost:8080/"
        }
      },
      "source": [
        "# Soma do PIB per capita\n",
        "df[\"PIB Percap\"].sum()"
      ],
      "execution_count": 33,
      "outputs": [
        {
          "output_type": "execute_result",
          "data": {
            "text/plain": [
              "37482287.5451553"
            ]
          },
          "metadata": {},
          "execution_count": 33
        }
      ]
    }
  ]
}