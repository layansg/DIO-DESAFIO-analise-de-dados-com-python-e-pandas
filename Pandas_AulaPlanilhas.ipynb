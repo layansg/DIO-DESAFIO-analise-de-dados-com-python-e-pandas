{
  "nbformat": 4,
  "nbformat_minor": 0,
  "metadata": {
    "colab": {
      "name": "Pandas_AulaPlanilhas.ipynb",
      "provenance": [],
      "collapsed_sections": [],
      "authorship_tag": "ABX9TyOyJMcwA2H94B8Fyncybf7v",
      "include_colab_link": true
    },
    "kernelspec": {
      "name": "python3",
      "display_name": "Python 3"
    },
    "language_info": {
      "name": "python"
    }
  },
  "cells": [
    {
      "cell_type": "markdown",
      "metadata": {
        "id": "view-in-github",
        "colab_type": "text"
      },
      "source": [
        "<a href=\"https://colab.research.google.com/github/layansg/DIO-DESAFIO-analise-de-dados-com-python-e-pandas/blob/main/Pandas_AulaPlanilhas.ipynb\" target=\"_parent\"><img src=\"https://colab.research.google.com/assets/colab-badge.svg\" alt=\"Open In Colab\"/></a>"
      ]
    },
    {
      "cell_type": "markdown",
      "metadata": {
        "id": "SQc7jZKMXCXN"
      },
      "source": [
        "# **Trabalhando com planilhas do Excel**"
      ]
    },
    {
      "cell_type": "code",
      "metadata": {
        "id": "EfBrzRlcXRS3"
      },
      "source": [
        "# Importando a biblioteca\n",
        "import pandas as pd"
      ],
      "execution_count": null,
      "outputs": []
    },
    {
      "cell_type": "code",
      "metadata": {
        "id": "U9WbyDSsXXC3"
      },
      "source": [
        "# Leitura dos arquivos\n",
        "df1 = pd.read_excel(\"Aracaju.xlsx\")\n",
        "df2 = pd.read_excel(\"Fortaleza.xlsx\")\n",
        "df3 = pd.read_excel(\"Natal.xlsx\")\n",
        "df4 = pd.read_excel(\"Recife.xlsx\")\n",
        "df5 = pd.read_excel(\"Salvador.xlsx\")"
      ],
      "execution_count": null,
      "outputs": []
    },
    {
      "cell_type": "code",
      "metadata": {
        "id": "YetWJFgjYB2y"
      },
      "source": [
        "# Juntando todos os arquivos\n",
        "df = pd.concat(df1,df2,df3,df4,df5)"
      ],
      "execution_count": null,
      "outputs": []
    },
    {
      "cell_type": "code",
      "metadata": {
        "id": "uyxZ5_IlYRUu"
      },
      "source": [
        "# Exibindo as 5 primeiras linhas\n",
        "df.head()\n",
        "\n",
        "# Exibindo as 5 ultimas linhas\n",
        "df.tail()"
      ],
      "execution_count": null,
      "outputs": []
    },
    {
      "cell_type": "code",
      "metadata": {
        "id": "dlpLihSoYd3i"
      },
      "source": [
        "# Exibir uma amostra aleatória\n",
        "df.sample(5)"
      ],
      "execution_count": null,
      "outputs": []
    },
    {
      "cell_type": "code",
      "metadata": {
        "id": "mTirCbs2YzjG"
      },
      "source": [
        "#Verificando o tipo de dado de cada coluna\n",
        "df.dtypes"
      ],
      "execution_count": null,
      "outputs": []
    },
    {
      "cell_type": "code",
      "metadata": {
        "id": "3PnVIpi8Y-bK"
      },
      "source": [
        "# Alterando o tipo de dado da coluna LojaID\n",
        "df[\"LojaID\"] = df[\"LojaID\"].astype(\"object\")\n",
        "df.dtypes"
      ],
      "execution_count": null,
      "outputs": []
    },
    {
      "cell_type": "markdown",
      "metadata": {
        "id": "ZCV22VbnZbbz"
      },
      "source": [
        "## Tratamento de dados faltantes "
      ]
    },
    {
      "cell_type": "code",
      "metadata": {
        "id": "JuY_Pte3ZiEQ"
      },
      "source": [
        "# Consultando linhas com valores faltantes\n",
        "df.isnull().sum"
      ],
      "execution_count": null,
      "outputs": []
    },
    {
      "cell_type": "code",
      "metadata": {
        "id": "HDsBrGiDZxny"
      },
      "source": [
        "# Substituindo os valores nulos pela média\n",
        "df[\"Vendas\"].fillna(df[\"Vendas\"].mean(), inplace=True)\n",
        "df.isnull().sum()"
      ],
      "execution_count": null,
      "outputs": []
    },
    {
      "cell_type": "code",
      "metadata": {
        "id": "pd165oXsaEfU"
      },
      "source": [
        "# Substituindo os valores nulos por zero\n",
        "df[\"Vendas\"].fillna(0, inplace=True)"
      ],
      "execution_count": null,
      "outputs": []
    },
    {
      "cell_type": "code",
      "metadata": {
        "id": "v1tqG-bObWZW"
      },
      "source": [
        "# Apagando as linhas com valores nulos\n",
        "df.dropna(inplace=True)"
      ],
      "execution_count": null,
      "outputs": []
    },
    {
      "cell_type": "code",
      "metadata": {
        "id": "TzMX8qNcbfpp"
      },
      "source": [
        "# Apagando as linhas com valores nulos apenas em uma coluna\n",
        "df.dropna(subset=\"Vendas\", inplace=True)"
      ],
      "execution_count": null,
      "outputs": []
    },
    {
      "cell_type": "code",
      "metadata": {
        "id": "zlywAwd4b3Oj"
      },
      "source": [
        "# Removendo linhas com valores nulos em todas as colunas\n",
        "df.dropna(how=\"all\")"
      ],
      "execution_count": null,
      "outputs": []
    },
    {
      "cell_type": "markdown",
      "metadata": {
        "id": "6Tr8Z2Vgcgol"
      },
      "source": [
        "## Criando colunas novas"
      ]
    },
    {
      "cell_type": "code",
      "metadata": {
        "id": "ij_pqHDvckD6"
      },
      "source": [
        "# Criando a coluna de receitas\n",
        "df[\"Receita\"] = df[\"Vendas\"].mul(df[\"Qtd\"])"
      ],
      "execution_count": null,
      "outputs": []
    },
    {
      "cell_type": "code",
      "metadata": {
        "id": "GlNcl2-gdTRl"
      },
      "source": [
        "# Retornando a maior receita\n",
        "df[\"Receita\"].max()\n",
        "\n",
        "# Retornando a maior receita\n",
        "df[\"Receita\"].min()"
      ],
      "execution_count": null,
      "outputs": []
    },
    {
      "cell_type": "code",
      "metadata": {
        "id": "faPEhslPdt6T"
      },
      "source": [
        "# Retornando os maiores valores de receita\n",
        "df.nlargest(3, \"Receitas\")\n",
        "\n",
        "# Retornando os menores valores de receita\n",
        "df.nsmallest(3, \"Receitas\")"
      ],
      "execution_count": null,
      "outputs": []
    },
    {
      "cell_type": "code",
      "metadata": {
        "id": "x0p23jteeJ6A"
      },
      "source": [
        "# Agrupamento por cidade\n",
        "df.groupby(\"Cidade\")[\"Receita\"].sum()"
      ],
      "execution_count": null,
      "outputs": []
    },
    {
      "cell_type": "code",
      "metadata": {
        "id": "bRmN4m0Zej6d"
      },
      "source": [
        "# Ordenando o conjunto de dados\n",
        "df.sort_values(\"Receita\", ascending=False).head(10)"
      ],
      "execution_count": null,
      "outputs": []
    },
    {
      "cell_type": "markdown",
      "metadata": {
        "id": "a0qyz-WafJB5"
      },
      "source": [
        "## Trabalhando com datas"
      ]
    },
    {
      "cell_type": "code",
      "metadata": {
        "id": "6qkGRvexfMO5"
      },
      "source": [
        "# Transformando a coluna de data em tipo inteiro\n",
        "df[\"Data\"] = df[\"Data\"].astype(\"int64\")"
      ],
      "execution_count": null,
      "outputs": []
    },
    {
      "cell_type": "code",
      "metadata": {
        "id": "w6mWLtkOfi0_"
      },
      "source": [
        "# Verificando o tipo de dado de cada coluna\n",
        "df.dtypes"
      ],
      "execution_count": null,
      "outputs": []
    },
    {
      "cell_type": "code",
      "metadata": {
        "id": "-Jc5lan2fpUl"
      },
      "source": [
        "# Transformando a coluna de data em tipo datetime\n",
        "df[\"Data\"] = pd.to_datetime(df[\"Data\"],)"
      ],
      "execution_count": null,
      "outputs": []
    },
    {
      "cell_type": "code",
      "metadata": {
        "id": "_A2ngR9sgOFx"
      },
      "source": [
        "# Agrupamento por ano\n",
        "df.groupby(df[\"Data\"].dt.year)[\"Receitas\"].sum()"
      ],
      "execution_count": null,
      "outputs": []
    },
    {
      "cell_type": "code",
      "metadata": {
        "id": "GM1Qmv4dglIm"
      },
      "source": [
        "# Criando uma nova coluna com o ano\n",
        "df[\"Ano_Venda\"] = df[\"Data\"].dt.year\n",
        "df.sample(5)"
      ],
      "execution_count": null,
      "outputs": []
    },
    {
      "cell_type": "code",
      "metadata": {
        "id": "7YbukbTahCBQ"
      },
      "source": [
        "# Extraindo o mês e o dia\n",
        "df[\"Mês_Venda\"], df[\"Dia_Venda\"] = (df[\"Data\"].dt.month, df[\"Data\"].dt.day)\n",
        "df.sample(5)"
      ],
      "execution_count": null,
      "outputs": []
    },
    {
      "cell_type": "code",
      "metadata": {
        "id": "fbvvnkv1hhct"
      },
      "source": [
        "# Retornando a data mais antiga\n",
        "df[\"Data\"].min()"
      ],
      "execution_count": null,
      "outputs": []
    },
    {
      "cell_type": "code",
      "metadata": {
        "id": "ndxMLuWZhyjz"
      },
      "source": [
        "# Calculando a diferença de dias\n",
        "df[\"Diferença_Dias\"] = df[\"Data\"] - df[\"Data\"].min()"
      ],
      "execution_count": null,
      "outputs": []
    },
    {
      "cell_type": "code",
      "metadata": {
        "id": "sEE1rgO6iQAa"
      },
      "source": [
        "# Criando coluna de trimestre\n",
        "df[\"Trimestre_Venda\"] = df[\"Data\"].dt.quarter"
      ],
      "execution_count": null,
      "outputs": []
    },
    {
      "cell_type": "code",
      "metadata": {
        "id": "559LocETiioX"
      },
      "source": [
        "# Filtrando as vendas de 2019 do mês de março\n",
        "vendas_março_2019 = df.loc[(df[\"Data\"].dt.year == 2019) & (df[\"Data\"].dt.month == 3)]"
      ],
      "execution_count": null,
      "outputs": []
    },
    {
      "cell_type": "markdown",
      "metadata": {
        "id": "UvsWrcnfjLq6"
      },
      "source": [
        "## Visualização de dados"
      ]
    },
    {
      "cell_type": "code",
      "metadata": {
        "id": "TyMMJkqwjPBG"
      },
      "source": [
        "#Gráfico de barras\n",
        "df[\"LojaID\"].value_counts(ascending=False).plot.bar();"
      ],
      "execution_count": null,
      "outputs": []
    },
    {
      "cell_type": "code",
      "metadata": {
        "id": "B5eGCZ3ajxhp"
      },
      "source": [
        "#Gráfico de barras horizontais\n",
        "df[\"LojaID\"].value_counts(ascending=True).plot.barh();"
      ],
      "execution_count": null,
      "outputs": []
    },
    {
      "cell_type": "code",
      "metadata": {
        "id": "SFupqrcckJHD"
      },
      "source": [
        "# Gráfico de pizza\n",
        "df.groupby(df[\"Data\"].dt.year)[\"Receita\"].sum().plot.pie()"
      ],
      "execution_count": null,
      "outputs": []
    },
    {
      "cell_type": "code",
      "metadata": {
        "id": "elQzYKh2kfDv"
      },
      "source": [
        "# Total de vendas por cidade\n",
        "df[\"Cidades\"].value_counts()"
      ],
      "execution_count": null,
      "outputs": []
    },
    {
      "cell_type": "code",
      "metadata": {
        "id": "WGW2Kdvzky51"
      },
      "source": [
        "# Adicionando o título e alterando o nome dos eixos\n",
        "import matplotlib.pyplot as plt\n",
        "df[\"Cidade\"].value_counts().plot.bar(title=\"Total de vendas por cidade\")\n",
        "plt.xlabel(\"Cidade\")\n",
        "plt.ylabel(\"Total Vendas\");"
      ],
      "execution_count": null,
      "outputs": []
    },
    {
      "cell_type": "code",
      "metadata": {
        "id": "TC9iY9LiljvT"
      },
      "source": [
        "# Alterando a cor\n",
        "df[\"Cidade\"].value_counts().plot.bar(title=\"Total de vendas por cidade\", color=\"red\")\n",
        "plt.xlabel(\"Cidade\")\n",
        "plt.ylabel(\"Total Vendas\");"
      ],
      "execution_count": null,
      "outputs": []
    },
    {
      "cell_type": "code",
      "metadata": {
        "id": "95-C3d9vl90O"
      },
      "source": [
        "# Alterando o estilo\n",
        "plt.style.use(\"ggplot\")\n",
        "df.groupby(df[\"Mes_Venda\"])[\"Qtde\"].sum().plot(title=\"Total produtos vendidos x mês\")\n",
        "plt.xlabel(\"Mês\")\n",
        "plt.ylabel(\"Total de produtos vendidos\")\n",
        "plt.legend();"
      ],
      "execution_count": null,
      "outputs": []
    },
    {
      "cell_type": "code",
      "metadata": {
        "id": "z2Af0sjmm55H"
      },
      "source": [
        "# Selecionando apenas as vendas de 2019\n",
        "df_2019 = df[df[\"Ano_Venda\"] == 2019]"
      ],
      "execution_count": null,
      "outputs": []
    },
    {
      "cell_type": "code",
      "metadata": {
        "id": "YE8rZTa0nIKc"
      },
      "source": [
        "# Total de produtos vendidos por mês\n",
        "df_2019.groupby(df[\"Mes_Venda\"])[\"Qtde\"].sum().plot(marker=\"v\")\n",
        "plt.xlabel(\"Mês\")\n",
        "plt.ylabel(\"Total de produtos vendidos\")\n",
        "plt.legend();"
      ],
      "execution_count": null,
      "outputs": []
    },
    {
      "cell_type": "code",
      "metadata": {
        "id": "PPb9AqIfnxCo"
      },
      "source": [
        "# Histograma\n",
        "plt.hist(df[\"Qtde\"], color=\"magenta\");"
      ],
      "execution_count": null,
      "outputs": []
    },
    {
      "cell_type": "code",
      "metadata": {
        "id": "pNnvFHdToS8e"
      },
      "source": [
        "# Dispersão\n",
        "plt.scatter(x = df_2019[\"Mes_Venda\"], y = df_2019[\"Receita\"]);"
      ],
      "execution_count": null,
      "outputs": []
    },
    {
      "cell_type": "code",
      "metadata": {
        "id": "tz7bFdtkouca"
      },
      "source": [
        "# Salvando em PNG\n",
        "df_2019.groupby(df[\"Mes_Venda\"])[\"Qtde\"].sum().plot(marker=\"v\")\n",
        "plt.title(\"Quantidade de produtos vendidos x mês\")\n",
        "plt.xlabel(\"Mês\")\n",
        "plt.ylabel(\"Total de produtos vendidos\")\n",
        "plt.legend()\n",
        "plt.savefig(\"Gráfico QTD x MÊS.png\");"
      ],
      "execution_count": null,
      "outputs": []
    }
  ]
}